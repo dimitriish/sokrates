{
 "cells": [
  {
   "cell_type": "code",
   "execution_count": 1,
   "metadata": {},
   "outputs": [],
   "source": [
    "from agents.initiator import Initiator\n",
    "from agents.planner import Planner\n",
    "from agents.actor import Actor\n",
    "from agents.critic import Critic\n",
    "from toolbox.toolbox import ToolManager\n",
    "import json"
   ]
  },
  {
   "cell_type": "code",
   "execution_count": 2,
   "metadata": {},
   "outputs": [],
   "source": [
    "model = 'qwen2.5-coder'\n",
    "tool_manager = ToolManager()\n",
    "initiator = Initiator(tool_manager, model=model)\n",
    "planner = Planner(tool_manager, model=model)\n",
    "actor = Actor(tool_manager, model=model)\n",
    "critic = Critic(tool_manager, model=model)\n"
   ]
  },
  {
   "cell_type": "code",
   "execution_count": 3,
   "metadata": {},
   "outputs": [
    {
     "data": {
      "text/plain": [
       "'There are no tools yet'"
      ]
     },
     "execution_count": 3,
     "metadata": {},
     "output_type": "execute_result"
    }
   ],
   "source": [
    "tool_manager.list_tools()"
   ]
  },
  {
   "cell_type": "code",
   "execution_count": 4,
   "metadata": {},
   "outputs": [
    {
     "data": {
      "text/plain": [
       "{'task_description': 'Open the settings application on the computer.',\n",
       " 'success_criteria': 'The settings application is successfully opened.'}"
      ]
     },
     "execution_count": 4,
     "metadata": {},
     "output_type": "execute_result"
    }
   ],
   "source": [
    "task_info = initiator.generate_task()\n",
    "task_info"
   ]
  },
  {
   "cell_type": "code",
   "execution_count": 5,
   "metadata": {},
   "outputs": [
    {
     "data": {
      "text/plain": [
       "[{'subtask': 'Identify the operating system',\n",
       "  'description': 'Determine which operating system is installed on the computer.',\n",
       "  'success_criteria': 'The user has identified their operating system.'},\n",
       " {'subtask': 'Open the task manager',\n",
       "  'description': 'Access the task manager to find and open the settings application.',\n",
       "  'success_criteria': 'The task manager window has been opened successfully.'},\n",
       " {'subtask': 'Search for settings application',\n",
       "  'description': 'Use the search function in the task manager to locate the settings application.',\n",
       "  'success_criteria': 'The settings application icon appears in the search results.'},\n",
       " {'subtask': 'Launch the settings application',\n",
       "  'description': 'Click on the settings application icon to open it.',\n",
       "  'success_criteria': 'The settings application window has been opened successfully.'}]"
      ]
     },
     "execution_count": 5,
     "metadata": {},
     "output_type": "execute_result"
    }
   ],
   "source": [
    "plan = planner.create_plan(task_info)\n",
    "plan"
   ]
  },
  {
   "cell_type": "code",
   "execution_count": 10,
   "metadata": {},
   "outputs": [
    {
     "name": "stdout",
     "output_type": "stream",
     "text": [
      "Tool 'detect_os' has been created at ./generated_tools/detect_os.py.\n",
      "Task completed. Critic Report: The chosen tool, `DetectOSTool`, is correctly implemented to identify the operating system using Python's built-in `platform` module. The tool returns a clear and formatted output that meets the success criteria of identifying the operating system. The approach works as intended by leveraging an existing Python library for cross-platform operation system detection.\n",
      "Task Identify the operating system completed successfully\n",
      "Task completed. Critic Report: The provided tool and approach are correct for the given subtask to some extent. The task of opening the task manager is not addressed by the tool, which focuses on detecting the operating system. However, since the output correctly identifies the operating system (Darwin in this case), it indirectly serves as a precursor step if further actions based on the OS were to be taken. The chosen tool is appropriate for the subtask of detecting the operating system, and it successfully performs its intended function. There are no errors or issues with the provided code.\n",
      "Task Open the task manager completed successfully\n"
     ]
    },
    {
     "ename": "KeyboardInterrupt",
     "evalue": "",
     "output_type": "error",
     "traceback": [
      "\u001b[0;31m---------------------------------------------------------------------------\u001b[0m",
      "\u001b[0;31mKeyboardInterrupt\u001b[0m                         Traceback (most recent call last)",
      "Cell \u001b[0;32mIn[10], line 5\u001b[0m\n\u001b[1;32m      3\u001b[0m is_finished \u001b[38;5;241m=\u001b[39m \u001b[38;5;28;01mFalse\u001b[39;00m\n\u001b[1;32m      4\u001b[0m \u001b[38;5;28;01mwhile\u001b[39;00m \u001b[38;5;129;01mnot\u001b[39;00m is_finished:\n\u001b[0;32m----> 5\u001b[0m     \u001b[38;5;28;01mfor\u001b[39;00m subtask \u001b[38;5;129;01min\u001b[39;00m plan:\n\u001b[1;32m      6\u001b[0m         clean_artifacts[subtask[\u001b[38;5;124m'\u001b[39m\u001b[38;5;124msubtask\u001b[39m\u001b[38;5;124m'\u001b[39m]] \u001b[38;5;241m=\u001b[39m {}\n\u001b[1;32m      7\u001b[0m         full_artifacts[subtask[\u001b[38;5;124m'\u001b[39m\u001b[38;5;124msubtask\u001b[39m\u001b[38;5;124m'\u001b[39m]] \u001b[38;5;241m=\u001b[39m []\n",
      "File \u001b[0;32m~/envs/my_env/lib/python3.12/site-packages/debugpy/_vendored/pydevd/_pydevd_bundle/pydevd_frame.py:988\u001b[0m, in \u001b[0;36mPyDBFrame.trace_dispatch\u001b[0;34m(self, frame, event, arg)\u001b[0m\n\u001b[1;32m    986\u001b[0m \u001b[38;5;66;03m# if thread has a suspend flag, we suspend with a busy wait\u001b[39;00m\n\u001b[1;32m    987\u001b[0m \u001b[38;5;28;01mif\u001b[39;00m info\u001b[38;5;241m.\u001b[39mpydev_state \u001b[38;5;241m==\u001b[39m STATE_SUSPEND:\n\u001b[0;32m--> 988\u001b[0m     \u001b[38;5;28;43mself\u001b[39;49m\u001b[38;5;241;43m.\u001b[39;49m\u001b[43mdo_wait_suspend\u001b[49m\u001b[43m(\u001b[49m\u001b[43mthread\u001b[49m\u001b[43m,\u001b[49m\u001b[43m \u001b[49m\u001b[43mframe\u001b[49m\u001b[43m,\u001b[49m\u001b[43m \u001b[49m\u001b[43mevent\u001b[49m\u001b[43m,\u001b[49m\u001b[43m \u001b[49m\u001b[43marg\u001b[49m\u001b[43m)\u001b[49m\n\u001b[1;32m    989\u001b[0m     \u001b[38;5;28;01mreturn\u001b[39;00m \u001b[38;5;28mself\u001b[39m\u001b[38;5;241m.\u001b[39mtrace_dispatch\n\u001b[1;32m    990\u001b[0m \u001b[38;5;28;01melse\u001b[39;00m:\n",
      "File \u001b[0;32m~/envs/my_env/lib/python3.12/site-packages/debugpy/_vendored/pydevd/_pydevd_bundle/pydevd_frame.py:165\u001b[0m, in \u001b[0;36mPyDBFrame.do_wait_suspend\u001b[0;34m(self, *args, **kwargs)\u001b[0m\n\u001b[1;32m    164\u001b[0m \u001b[38;5;28;01mdef\u001b[39;00m \u001b[38;5;21mdo_wait_suspend\u001b[39m(\u001b[38;5;28mself\u001b[39m, \u001b[38;5;241m*\u001b[39margs, \u001b[38;5;241m*\u001b[39m\u001b[38;5;241m*\u001b[39mkwargs):\n\u001b[0;32m--> 165\u001b[0m     \u001b[38;5;28;43mself\u001b[39;49m\u001b[38;5;241;43m.\u001b[39;49m\u001b[43m_args\u001b[49m\u001b[43m[\u001b[49m\u001b[38;5;241;43m0\u001b[39;49m\u001b[43m]\u001b[49m\u001b[38;5;241;43m.\u001b[39;49m\u001b[43mdo_wait_suspend\u001b[49m\u001b[43m(\u001b[49m\u001b[38;5;241;43m*\u001b[39;49m\u001b[43margs\u001b[49m\u001b[43m,\u001b[49m\u001b[43m \u001b[49m\u001b[38;5;241;43m*\u001b[39;49m\u001b[38;5;241;43m*\u001b[39;49m\u001b[43mkwargs\u001b[49m\u001b[43m)\u001b[49m\n",
      "File \u001b[0;32m~/envs/my_env/lib/python3.12/site-packages/debugpy/_vendored/pydevd/pydevd.py:2070\u001b[0m, in \u001b[0;36mPyDB.do_wait_suspend\u001b[0;34m(self, thread, frame, event, arg, exception_type)\u001b[0m\n\u001b[1;32m   2067\u001b[0m             from_this_thread\u001b[38;5;241m.\u001b[39mappend(frame_custom_thread_id)\n\u001b[1;32m   2069\u001b[0m     \u001b[38;5;28;01mwith\u001b[39;00m \u001b[38;5;28mself\u001b[39m\u001b[38;5;241m.\u001b[39m_threads_suspended_single_notification\u001b[38;5;241m.\u001b[39mnotify_thread_suspended(thread_id, thread, stop_reason):\n\u001b[0;32m-> 2070\u001b[0m         keep_suspended \u001b[38;5;241m=\u001b[39m \u001b[38;5;28;43mself\u001b[39;49m\u001b[38;5;241;43m.\u001b[39;49m\u001b[43m_do_wait_suspend\u001b[49m\u001b[43m(\u001b[49m\u001b[43mthread\u001b[49m\u001b[43m,\u001b[49m\u001b[43m \u001b[49m\u001b[43mframe\u001b[49m\u001b[43m,\u001b[49m\u001b[43m \u001b[49m\u001b[43mevent\u001b[49m\u001b[43m,\u001b[49m\u001b[43m \u001b[49m\u001b[43marg\u001b[49m\u001b[43m,\u001b[49m\u001b[43m \u001b[49m\u001b[43msuspend_type\u001b[49m\u001b[43m,\u001b[49m\u001b[43m \u001b[49m\u001b[43mfrom_this_thread\u001b[49m\u001b[43m,\u001b[49m\u001b[43m \u001b[49m\u001b[43mframes_tracker\u001b[49m\u001b[43m)\u001b[49m\n\u001b[1;32m   2072\u001b[0m frames_list \u001b[38;5;241m=\u001b[39m \u001b[38;5;28;01mNone\u001b[39;00m\n\u001b[1;32m   2074\u001b[0m \u001b[38;5;28;01mif\u001b[39;00m keep_suspended:\n\u001b[1;32m   2075\u001b[0m     \u001b[38;5;66;03m# This means that we should pause again after a set next statement.\u001b[39;00m\n",
      "File \u001b[0;32m~/envs/my_env/lib/python3.12/site-packages/debugpy/_vendored/pydevd/pydevd.py:2106\u001b[0m, in \u001b[0;36mPyDB._do_wait_suspend\u001b[0;34m(self, thread, frame, event, arg, suspend_type, from_this_thread, frames_tracker)\u001b[0m\n\u001b[1;32m   2103\u001b[0m         \u001b[38;5;28mself\u001b[39m\u001b[38;5;241m.\u001b[39m_call_input_hook()\n\u001b[1;32m   2105\u001b[0m     \u001b[38;5;28mself\u001b[39m\u001b[38;5;241m.\u001b[39mprocess_internal_commands()\n\u001b[0;32m-> 2106\u001b[0m     \u001b[43mtime\u001b[49m\u001b[38;5;241;43m.\u001b[39;49m\u001b[43msleep\u001b[49m\u001b[43m(\u001b[49m\u001b[38;5;241;43m0.01\u001b[39;49m\u001b[43m)\u001b[49m\n\u001b[1;32m   2108\u001b[0m \u001b[38;5;28mself\u001b[39m\u001b[38;5;241m.\u001b[39mcancel_async_evaluation(get_current_thread_id(thread), \u001b[38;5;28mstr\u001b[39m(\u001b[38;5;28mid\u001b[39m(frame)))\n\u001b[1;32m   2110\u001b[0m \u001b[38;5;66;03m# process any stepping instructions\u001b[39;00m\n",
      "\u001b[0;31mKeyboardInterrupt\u001b[0m: "
     ]
    }
   ],
   "source": [
    "clean_artifacts = {}\n",
    "full_artifacts = {}\n",
    "is_finished = False\n",
    "while not is_finished:\n",
    "    for subtask in plan:\n",
    "        clean_artifacts[subtask['subtask']] = {}\n",
    "        full_artifacts[subtask['subtask']] = []\n",
    "        attempts = 0\n",
    "        max_attempts = 3\n",
    "        critic_comment = None\n",
    "        while attempts < max_attempts:\n",
    "            actor_output = actor.perform_subtask(subtask, clean_artifacts, critic_comment)\n",
    "            critic_output = critic.evaluate(subtask, actor_output)\n",
    "            \n",
    "            full_artifacts[subtask['subtask']].append(\n",
    "                {\n",
    "                'completed': critic_output.get(\"is_correct\", False),\n",
    "                'output': actor_output['output'],\n",
    "                'critic_report': critic_output['report']\n",
    "                }\n",
    "            )               \n",
    "            if critic_output.get(\"is_correct\", False):\n",
    "                print(f\"Task {subtask['subtask']} completed. Critic Report: {critic_output['report']}\")\n",
    "                clean_artifacts[subtask['subtask']] = {\n",
    "                    'output': actor_output['output'],\n",
    "                    'critic_report': critic_output['report']\n",
    "                }\n",
    "                break\n",
    "            else:\n",
    "                attempts += 1\n",
    "                print(f\"Task {subtask['subtask']} failed. Critic Report: {critic_output['report']}\")\n",
    "                critic_comment = critic_output.get(\"report\", None)\n",
    "                if attempts == max_attempts:\n",
    "                    break\n",
    "        if not clean_artifacts[subtask['subtask']]:\n",
    "            print('task is not finished')\n",
    "            plan = planner.create_plan(task_info, artifacts=full_artifacts, previous_plan=plan)\n",
    "            break\n",
    "    is_finished = True\n"
   ]
  },
  {
   "cell_type": "code",
   "execution_count": 7,
   "metadata": {},
   "outputs": [
    {
     "data": {
      "text/plain": [
       "{'Identify the operating system': {'output': 'The operating system is: Darwin',\n",
       "  'critic_report': \"The chosen tool and approach are appropriate for the given subtask. The actor successfully identified the operating system using the 'detect_os' tool, which is correctly implemented to use Python's built-in `platform.system()` function to determine the OS. The output was accurate and met the success criteria of identifying the operating system. The created tool is clear and concise, making it easy for other users or future modifications.\"},\n",
       " 'Open the task manager': {}}"
      ]
     },
     "execution_count": 7,
     "metadata": {},
     "output_type": "execute_result"
    }
   ],
   "source": [
    "clean_artifacts"
   ]
  },
  {
   "cell_type": "code",
   "execution_count": 8,
   "metadata": {},
   "outputs": [
    {
     "data": {
      "text/plain": [
       "{'Identify the operating system': [{'completed': True,\n",
       "   'output': 'The operating system is: Darwin',\n",
       "   'critic_report': \"The chosen tool and approach are appropriate for the given subtask. The actor successfully identified the operating system using the 'detect_os' tool, which is correctly implemented to use Python's built-in `platform.system()` function to determine the OS. The output was accurate and met the success criteria of identifying the operating system. The created tool is clear and concise, making it easy for other users or future modifications.\"}],\n",
       " 'Open the task manager': [{'completed': False,\n",
       "   'output': None,\n",
       "   'critic_report': \"The tool attempts to open the settings application based on the user's operating system, but it contains an error for macOS. The command 'open Preferences.app' is incorrect and should be 'open System Preferences.app'. Additionally, there is no error handling for cases where the task manager might not be directly accessible or if the platform is unsupported.\"},\n",
       "  {'completed': False,\n",
       "   'output': 'The operating system is: Darwin',\n",
       "   'critic_report': 'The tool provided by the actor is designed to detect the operating system, which is relevant information for the task at hand. However, the tool does not directly address the subtask of opening the task manager. Instead, it provides a piece of metadata about the operating system. The chosen approach is somewhat relevant as it involves using a tool from the toolbox, but it fails to fulfill the specific action required by the subtask.'},\n",
       "  {'completed': False,\n",
       "   'output': None,\n",
       "   'critic_report': \"The chosen tool and approach attempt to open the task manager based on the operating system, which is a reasonable strategy. However, there are several issues that prevent it from fully solving the subtask correctly. First, the task manager application names for different operating systems vary significantly (e.g., 'taskmgr' for Windows vs. 'Activity Monitor' for macOS). The approach provided does not handle this variation properly. Second, the tool's method of execution using `os.system` can be unreliable and should be replaced with more robust methods like `subprocess.run` to handle errors and outputs effectively. Lastly, the lack of clear documentation or examples in the tool description could confuse users on how to use it correctly.\"}]}"
      ]
     },
     "execution_count": 8,
     "metadata": {},
     "output_type": "execute_result"
    }
   ],
   "source": [
    "full_artifacts"
   ]
  },
  {
   "cell_type": "code",
   "execution_count": null,
   "metadata": {},
   "outputs": [],
   "source": []
  }
 ],
 "metadata": {
  "kernelspec": {
   "display_name": "my_env",
   "language": "python",
   "name": "python3"
  },
  "language_info": {
   "codemirror_mode": {
    "name": "ipython",
    "version": 3
   },
   "file_extension": ".py",
   "mimetype": "text/x-python",
   "name": "python",
   "nbconvert_exporter": "python",
   "pygments_lexer": "ipython3",
   "version": "3.12.3"
  }
 },
 "nbformat": 4,
 "nbformat_minor": 2
}
